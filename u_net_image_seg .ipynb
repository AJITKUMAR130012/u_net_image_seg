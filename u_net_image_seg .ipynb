{
  "nbformat": 4,
  "nbformat_minor": 0,
  "metadata": {
    "colab": {
      "provenance": []
    },
    "kernelspec": {
      "name": "python3",
      "display_name": "Python 3"
    },
    "language_info": {
      "name": "python"
    },
    "accelerator": "GPU",
    "gpuClass": "standard"
  },
  "cells": [
    {
      "cell_type": "code",
      "execution_count": 1,
      "metadata": {
        "colab": {
          "base_uri": "https://localhost:8080/"
        },
        "id": "mg7JNAL6wra1",
        "outputId": "b91dc491-1593-4c9a-81f6-baf258979894"
      },
      "outputs": [
        {
          "output_type": "stream",
          "name": "stdout",
          "text": [
            "Cloning into 'u_net_image_seg'...\n",
            "remote: Enumerating objects: 3381, done.\u001b[K\n",
            "remote: Counting objects: 100% (482/482), done.\u001b[K\n",
            "remote: Compressing objects: 100% (141/141), done.\u001b[K\n",
            "remote: Total 3381 (delta 392), reused 427 (delta 340), pack-reused 2899\u001b[K\n",
            "Receiving objects: 100% (3381/3381), 210.25 MiB | 10.27 MiB/s, done.\n",
            "Resolving deltas: 100% (1819/1819), done.\n",
            "Updating files: 100% (2912/2912), done.\n"
          ]
        }
      ],
      "source": [
        "!git clone https://github.com/AJITKUMAR130012/u_net_image_seg.git"
      ]
    },
    {
      "cell_type": "code",
      "source": [
        "!pwd"
      ],
      "metadata": {
        "colab": {
          "base_uri": "https://localhost:8080/"
        },
        "id": "VxbYzhmP7jK0",
        "outputId": "6e735b8c-e284-4053-d40d-60113a9a5d89"
      },
      "execution_count": 2,
      "outputs": [
        {
          "output_type": "stream",
          "name": "stdout",
          "text": [
            "/content\n"
          ]
        }
      ]
    },
    {
      "cell_type": "code",
      "source": [
        "!ls"
      ],
      "metadata": {
        "colab": {
          "base_uri": "https://localhost:8080/"
        },
        "id": "2uQDNwsd7n8d",
        "outputId": "4bb7cf72-b9d2-4f5b-dc28-dfb7bcf94ef6"
      },
      "execution_count": 3,
      "outputs": [
        {
          "output_type": "stream",
          "name": "stdout",
          "text": [
            "sample_data  u_net_image_seg\n"
          ]
        }
      ]
    },
    {
      "cell_type": "code",
      "source": [
        "%cd u_net_image_seg"
      ],
      "metadata": {
        "colab": {
          "base_uri": "https://localhost:8080/"
        },
        "id": "uLICKLdY7qnV",
        "outputId": "49024d84-15f7-48bf-ce45-c9f71023335b"
      },
      "execution_count": 4,
      "outputs": [
        {
          "output_type": "stream",
          "name": "stdout",
          "text": [
            "/content/u_net_image_seg\n"
          ]
        }
      ]
    },
    {
      "cell_type": "code",
      "source": [
        "!ls"
      ],
      "metadata": {
        "colab": {
          "base_uri": "https://localhost:8080/"
        },
        "id": "yo_Kt4aA7vWD",
        "outputId": "8c3be6cc-b8d9-4319-a264-79f659c0cc4b"
      },
      "execution_count": 5,
      "outputs": [
        {
          "output_type": "stream",
          "name": "stdout",
          "text": [
            "mask  train\n"
          ]
        }
      ]
    },
    {
      "cell_type": "code",
      "source": [
        "\n",
        "import numpy as np\n",
        "import pandas as pd\n",
        "import matplotlib.pyplot as plt\n",
        "import glob\n",
        "import cv2\n",
        "import pickle\n",
        "import os\n",
        "import tensorflow as tf\n",
        "import os\n",
        "import random\n",
        "import numpy as np\n",
        " \n",
        "from tqdm import tqdm \n",
        "\n",
        "\n",
        "from skimage.io import imread, imshow\n",
        "from skimage.transform import resize\n",
        "import matplotlib.pyplot as plt"
      ],
      "metadata": {
        "id": "51FOh_DB70PX"
      },
      "execution_count": 10,
      "outputs": []
    },
    {
      "cell_type": "code",
      "source": [
        "img_path=os.listdir(\"./train\")\n",
        "size_x=128\n",
        "size_y=128\n",
        "print(len(img_path))"
      ],
      "metadata": {
        "id": "sijvXMtG7227",
        "colab": {
          "base_uri": "https://localhost:8080/"
        },
        "outputId": "ecfef660-e135-4250-d0b4-bc07369d8a3f"
      },
      "execution_count": 16,
      "outputs": [
        {
          "output_type": "stream",
          "name": "stdout",
          "text": [
            "1456\n"
          ]
        }
      ]
    },
    {
      "cell_type": "code",
      "source": [
        "IMG_WIDTH = 128\n",
        "IMG_HEIGHT = 128\n",
        "IMG_CHANNELS = 3"
      ],
      "metadata": {
        "id": "eu-arcbb-Dm4"
      },
      "execution_count": 8,
      "outputs": []
    },
    {
      "cell_type": "code",
      "source": [
        "TRAIN_PATH = 'train/'\n",
        "#TEST_PATH = 'stage1_test/'"
      ],
      "metadata": {
        "id": "ETxNJxO_yPkv"
      },
      "execution_count": 11,
      "outputs": []
    },
    {
      "cell_type": "code",
      "source": [
        "train_ids = next(os.walk(TRAIN_PATH))[1]\n",
        "#test_ids = next(os.walk(TEST_PATH))[1]"
      ],
      "metadata": {
        "id": "0pUOnO6byIsW"
      },
      "execution_count": 12,
      "outputs": []
    },
    {
      "cell_type": "code",
      "source": [
        "print(len(train_ids))"
      ],
      "metadata": {
        "colab": {
          "base_uri": "https://localhost:8080/"
        },
        "id": "u8siQc5W16dx",
        "outputId": "a4930c80-f6b6-4b87-89f0-fb4b39201b12"
      },
      "execution_count": 15,
      "outputs": [
        {
          "output_type": "stream",
          "name": "stdout",
          "text": [
            "0\n"
          ]
        }
      ]
    },
    {
      "cell_type": "code",
      "source": [
        "X_train = np.zeros((len(img_path), IMG_HEIGHT, IMG_WIDTH, IMG_CHANNELS), dtype=np.uint8)\n",
        "Y_train = np.zeros((len(img_path), IMG_HEIGHT, IMG_WIDTH, 1), dtype=np.bool)"
      ],
      "metadata": {
        "colab": {
          "base_uri": "https://localhost:8080/"
        },
        "id": "v5gMuLEJxZ6Q",
        "outputId": "9aa29147-11dc-4324-caf9-e6cfaeb32fe4"
      },
      "execution_count": 29,
      "outputs": [
        {
          "output_type": "stream",
          "name": "stderr",
          "text": [
            "<ipython-input-29-34df9476cb56>:2: DeprecationWarning: `np.bool` is a deprecated alias for the builtin `bool`. To silence this warning, use `bool` by itself. Doing this will not modify any behavior and is safe. If you specifically wanted the numpy scalar type, use `np.bool_` here.\n",
            "Deprecated in NumPy 1.20; for more details and guidance: https://numpy.org/devdocs/release/1.20.0-notes.html#deprecations\n",
            "  Y_train = np.zeros((len(img_path), IMG_HEIGHT, IMG_WIDTH, 1), dtype=np.bool)\n"
          ]
        }
      ]
    },
    {
      "cell_type": "code",
      "source": [
        "# preparing the training images\n",
        "train_img=[]\n",
        "i=0\n",
        "cur_path=\"./train\"\n",
        "for img in img_path:\n",
        "    #print(img)\n",
        "    img=os.path.join(cur_path,img)\n",
        "    img1=cv2.imread(img)\n",
        "    img1=cv2.resize(img1,(size_y,size_x))\n",
        "    img1=cv2.cvtColor(img1, cv2.COLOR_RGB2BGR)\n",
        "    train_img.append(img1)\n",
        "    X_train[i]=img1\n",
        "    i=i+1"
      ],
      "metadata": {
        "id": "l2DyZREQ8H_H"
      },
      "execution_count": 30,
      "outputs": []
    },
    {
      "cell_type": "code",
      "source": [
        "train_img=np.array(train_img)"
      ],
      "metadata": {
        "id": "fbVJlhWL8KYN"
      },
      "execution_count": 31,
      "outputs": []
    },
    {
      "cell_type": "code",
      "source": [
        "mask_path=os.listdir(\"./mask\")"
      ],
      "metadata": {
        "id": "WlNwaBLF8M07"
      },
      "execution_count": 32,
      "outputs": []
    },
    {
      "cell_type": "code",
      "source": [
        " #preparing the mask images\n",
        "train_mask=[]\n",
        "i=0\n",
        "cur_path=\"./mask\"\n",
        "for img in mask_path:\n",
        "    #print(img)\n",
        "    img=os.path.join(cur_path,img)\n",
        "    img1=cv2.imread(img,0)\n",
        "    #img1=cv2.resize(img1,(size_y,size_x))\n",
        "    img1= np.expand_dims(resize(img1, (IMG_HEIGHT, IMG_WIDTH), mode='constant',  \n",
        "                                      preserve_range=True), axis=-1)\n",
        "\n",
        "    train_mask.append(img1)\n",
        "    Y_train[i]=img1\n",
        "    i=i+1"
      ],
      "metadata": {
        "id": "MejhaA4Y8O7r"
      },
      "execution_count": 33,
      "outputs": []
    },
    {
      "cell_type": "code",
      "source": [],
      "metadata": {
        "id": "-Ino_9LD4RMw"
      },
      "execution_count": null,
      "outputs": []
    },
    {
      "cell_type": "code",
      "source": [
        "train_mask=np.array(train_mask)"
      ],
      "metadata": {
        "id": "cdA57JVv8RDd"
      },
      "execution_count": 54,
      "outputs": []
    },
    {
      "cell_type": "code",
      "source": [
        "train_img.shape, train_mask.shape"
      ],
      "metadata": {
        "colab": {
          "base_uri": "https://localhost:8080/"
        },
        "id": "eTtV9TMX8Tqd",
        "outputId": "ed8a08e1-a8e7-4265-fc9c-78ea0704c4e9"
      },
      "execution_count": 55,
      "outputs": [
        {
          "output_type": "execute_result",
          "data": {
            "text/plain": [
              "((1456, 128, 128, 3), (1456, 128, 128, 1))"
            ]
          },
          "metadata": {},
          "execution_count": 55
        }
      ]
    },
    {
      "cell_type": "code",
      "source": [
        "X_train.shape,Y_train.shape"
      ],
      "metadata": {
        "colab": {
          "base_uri": "https://localhost:8080/"
        },
        "id": "OEuvBUvj4Wla",
        "outputId": "ba1d299c-8d12-43c4-c3b7-48abb3eddaf8"
      },
      "execution_count": 56,
      "outputs": [
        {
          "output_type": "execute_result",
          "data": {
            "text/plain": [
              "((1456, 128, 128, 3), (1456, 128, 128, 1))"
            ]
          },
          "metadata": {},
          "execution_count": 56
        }
      ]
    },
    {
      "cell_type": "code",
      "source": [
        "type(X_train),type(Y_train), type(train_img),type(train_mask)"
      ],
      "metadata": {
        "colab": {
          "base_uri": "https://localhost:8080/"
        },
        "id": "FRFACkMc5NHh",
        "outputId": "c0733629-32ab-4e68-8349-81e8875bc9de"
      },
      "execution_count": 57,
      "outputs": [
        {
          "output_type": "execute_result",
          "data": {
            "text/plain": [
              "(numpy.ndarray, numpy.ndarray, numpy.ndarray, numpy.ndarray)"
            ]
          },
          "metadata": {},
          "execution_count": 57
        }
      ]
    },
    {
      "cell_type": "code",
      "source": [
        "X_train.dtype,Y_train.dtype, train_img.dtype, train_mask.dtype"
      ],
      "metadata": {
        "colab": {
          "base_uri": "https://localhost:8080/"
        },
        "id": "fu_1BJ-uB2b9",
        "outputId": "32e02d4b-10c1-4716-e7c9-1b0487515650"
      },
      "execution_count": 58,
      "outputs": [
        {
          "output_type": "execute_result",
          "data": {
            "text/plain": [
              "(dtype('uint8'), dtype('uint8'), dtype('uint8'), dtype('float64'))"
            ]
          },
          "metadata": {},
          "execution_count": 58
        }
      ]
    },
    {
      "cell_type": "code",
      "source": [
        "Y_train=Y_train.astype(np.uint8)"
      ],
      "metadata": {
        "id": "zJ-Jjrp1BtXT"
      },
      "execution_count": 59,
      "outputs": []
    },
    {
      "cell_type": "code",
      "source": [
        "X_train.dtype,Y_train.dtype, train_img.dtype, train_mask.dtype"
      ],
      "metadata": {
        "colab": {
          "base_uri": "https://localhost:8080/"
        },
        "id": "EYMMlyWx4v6k",
        "outputId": "49e88a79-b642-4d9c-ccc3-f4de0b1d8ad3"
      },
      "execution_count": 60,
      "outputs": [
        {
          "output_type": "execute_result",
          "data": {
            "text/plain": [
              "(dtype('uint8'), dtype('uint8'), dtype('uint8'), dtype('float64'))"
            ]
          },
          "metadata": {},
          "execution_count": 60
        }
      ]
    },
    {
      "cell_type": "code",
      "source": [
        "image_x = random.randint(0, train_img.shape[0])\n"
      ],
      "metadata": {
        "id": "icJsMZvA8YZQ"
      },
      "execution_count": 61,
      "outputs": []
    },
    {
      "cell_type": "code",
      "source": [
        "imshow(train_img[image_x])\n",
        "plt.show()\n",
        "imshow(np.squeeze(train_mask[image_x]))\n",
        "plt.show()"
      ],
      "metadata": {
        "colab": {
          "base_uri": "https://localhost:8080/",
          "height": 612
        },
        "id": "Sw1Vr-hx81BF",
        "outputId": "273b3f82-14bf-48d0-8909-4dc7b9654e4a"
      },
      "execution_count": 62,
      "outputs": [
        {
          "output_type": "display_data",
          "data": {
            "text/plain": [
              "<Figure size 432x288 with 1 Axes>"
            ],
            "image/png": "[encoded data removed]"
          },
          "metadata": {
            "needs_background": "light"
          }
        },
        {
          "output_type": "stream",
          "name": "stderr",
          "text": [
            "/usr/local/lib/python3.8/dist-packages/skimage/io/_plugins/matplotlib_plugin.py:150: UserWarning: Float image out of standard range; displaying image with stretched contrast.\n",
            "  lo, hi, cmap = _get_display_range(image)\n"
          ]
        },
        {
          "output_type": "display_data",
          "data": {
            "text/plain": [
              "<Figure size 432x288 with 2 Axes>"
            ],
            "image/png": "[encoded data removed]"
          },
          "metadata": {
            "needs_background": "light"
          }
        }
      ]
    },
    {
      "cell_type": "code",
      "source": [
        "\n",
        "inputs = tf.keras.layers.Input((IMG_HEIGHT, IMG_WIDTH, IMG_CHANNELS))\n",
        "s = tf.keras.layers.Lambda(lambda x: x / 255)(inputs)"
      ],
      "metadata": {
        "id": "GlOby_O09BfJ"
      },
      "execution_count": 63,
      "outputs": []
    },
    {
      "cell_type": "code",
      "source": [
        "#Contraction path\n",
        "c1 = tf.keras.layers.Conv2D(16, (3, 3), activation='relu', kernel_initializer='he_normal', padding='same')(s)\n",
        "\n",
        "c1 = tf.keras.layers.Dropout(0.1)(c1)\n",
        "c1 = tf.keras.layers.Conv2D(16, (3, 3), activation='relu', kernel_initializer='he_normal', padding='same')(c1)\n",
        "\n",
        "p1 = tf.keras.layers.MaxPooling2D((2, 2))(c1)\n",
        "\n",
        "c2 = tf.keras.layers.Conv2D(32, (3, 3), activation='relu', kernel_initializer='he_normal', padding='same')(p1)\n",
        "\n",
        "c2 = tf.keras.layers.Dropout(0.1)(c2)\n",
        "c2 = tf.keras.layers.Conv2D(32, (3, 3), activation='relu', kernel_initializer='he_normal', padding='same')(c2)\n",
        "\n",
        "p2 = tf.keras.layers.MaxPooling2D((2, 2))(c2)\n",
        " \n",
        "c3 = tf.keras.layers.Conv2D(64, (3, 3), activation='relu', kernel_initializer='he_normal', padding='same')(p2)\n",
        "\n",
        "c3 = tf.keras.layers.Dropout(0.2)(c3)\n",
        "c3 = tf.keras.layers.Conv2D(64, (3, 3), activation='relu', kernel_initializer='he_normal', padding='same')(c3)\n",
        "\n",
        "p3 = tf.keras.layers.MaxPooling2D((2, 2))(c3)\n",
        " \n",
        "c4 = tf.keras.layers.Conv2D(128, (3, 3), activation='relu', kernel_initializer='he_normal', padding='same')(p3)\n",
        "\n",
        "c4 = tf.keras.layers.Dropout(0.2)(c4)\n",
        "c4 = tf.keras.layers.Conv2D(128, (3, 3), activation='relu', kernel_initializer='he_normal', padding='same')(c4)\n",
        "\n",
        "p4 = tf.keras.layers.MaxPooling2D(pool_size=(2, 2))(c4)\n",
        " \n",
        "c5 = tf.keras.layers.Conv2D(256, (3, 3), activation='relu', kernel_initializer='he_normal', padding='same')(p4)\n",
        "\n",
        "c5 = tf.keras.layers.Dropout(0.3)(c5)\n",
        "c5 = tf.keras.layers.Conv2D(256, (3, 3), activation='relu', kernel_initializer='he_normal', padding='same')(c5)\n",
        "\n",
        "\n",
        "#Expansive path \n",
        "u6 = tf.keras.layers.Conv2DTranspose(128, (2, 2), strides=(2, 2), padding='same')(c5)\n",
        "u6 = tf.keras.layers.concatenate([u6, c4])\n",
        "c6 = tf.keras.layers.Conv2D(128, (3, 3), activation='relu', kernel_initializer='he_normal', padding='same')(u6)\n",
        "\n",
        "c6 = tf.keras.layers.Dropout(0.2)(c6)\n",
        "c6 = tf.keras.layers.Conv2D(128, (3, 3), activation='relu', kernel_initializer='he_normal', padding='same')(c6)\n",
        "\n",
        " \n",
        "u7 = tf.keras.layers.Conv2DTranspose(64, (2, 2), strides=(2, 2), padding='same')(c6)\n",
        "u7 = tf.keras.layers.concatenate([u7, c3])\n",
        "c7 = tf.keras.layers.Conv2D(64, (3, 3), activation='relu', kernel_initializer='he_normal', padding='same')(u7)\n",
        "\n",
        "c7 = tf.keras.layers.Dropout(0.2)(c7)\n",
        "c7 = tf.keras.layers.Conv2D(64, (3, 3), activation='relu', kernel_initializer='he_normal', padding='same')(c7)\n",
        "\n",
        " \n",
        "u8 = tf.keras.layers.Conv2DTranspose(32, (2, 2), strides=(2, 2), padding='same')(c7)\n",
        "u8 = tf.keras.layers.concatenate([u8, c2])\n",
        "c8 = tf.keras.layers.Conv2D(32, (3, 3), activation='relu', kernel_initializer='he_normal', padding='same')(u8)\n",
        "\n",
        "c8 = tf.keras.layers.Dropout(0.1)(c8)\n",
        "c8 = tf.keras.layers.Conv2D(32, (3, 3), activation='relu', kernel_initializer='he_normal', padding='same')(c8)\n",
        "\n",
        " \n",
        " \n",
        "u9 = tf.keras.layers.Conv2DTranspose(16, (2, 2), strides=(2, 2), padding='same')(c8)\n",
        "u9 = tf.keras.layers.concatenate([u9, c1], axis=3)\n",
        "c9 = tf.keras.layers.Conv2D(16, (3, 3), activation='relu', kernel_initializer='he_normal', padding='same')(u9)\n",
        "\n",
        " \n",
        "c9 = tf.keras.layers.Dropout(0.1)(c9)\n",
        "c9 = tf.keras.layers.Conv2D(16, (3, 3), activation='relu', kernel_initializer='he_normal', padding='same')(c9)\n",
        "\n",
        " \n",
        " \n",
        "outputs = tf.keras.layers.Conv2D(1, (1, 1), activation='sigmoid')(c9)\n",
        " \n",
        "model = tf.keras.Model(inputs=[inputs], outputs=[outputs])\n",
        "model.compile(optimizer='adam', loss='binary_crossentropy', metrics=['accuracy'])\n",
        "model.summary()\n"
      ],
      "metadata": {
        "colab": {
          "base_uri": "https://localhost:8080/"
        },
        "id": "TjN011pY9Pus",
        "outputId": "9238a4e8-821c-4be0-cb13-44c4c7f742de"
      },
      "execution_count": 64,
      "outputs": [
        {
          "output_type": "stream",
          "name": "stdout",
          "text": [
            "Model: \"model_1\"\n",
            "__________________________________________________________________________________________________\n",
            " Layer (type)                   Output Shape         Param #     Connected to                     \n",
            "==================================================================================================\n",
            " input_2 (InputLayer)           [(None, 128, 128, 3  0           []                               \n",
            "                                )]                                                                \n",
            "                                                                                                  \n",
            " lambda_1 (Lambda)              (None, 128, 128, 3)  0           ['input_2[0][0]']                \n",
            "                                                                                                  \n",
            " conv2d_19 (Conv2D)             (None, 128, 128, 16  448         ['lambda_1[0][0]']               \n",
            "                                )                                                                 \n",
            "                                                                                                  \n",
            " dropout_9 (Dropout)            (None, 128, 128, 16  0           ['conv2d_19[0][0]']              \n",
            "                                )                                                                 \n",
            "                                                                                                  \n",
            " conv2d_20 (Conv2D)             (None, 128, 128, 16  2320        ['dropout_9[0][0]']              \n",
            "                                )                                                                 \n",
            "                                                                                                  \n",
            " max_pooling2d_4 (MaxPooling2D)  (None, 64, 64, 16)  0           ['conv2d_20[0][0]']              \n",
            "                                                                                                  \n",
            " conv2d_21 (Conv2D)             (None, 64, 64, 32)   4640        ['max_pooling2d_4[0][0]']        \n",
            "                                                                                                  \n",
            " dropout_10 (Dropout)           (None, 64, 64, 32)   0           ['conv2d_21[0][0]']              \n",
            "                                                                                                  \n",
            " conv2d_22 (Conv2D)             (None, 64, 64, 32)   9248        ['dropout_10[0][0]']             \n",
            "                                                                                                  \n",
            " max_pooling2d_5 (MaxPooling2D)  (None, 32, 32, 32)  0           ['conv2d_22[0][0]']              \n",
            "                                                                                                  \n",
            " conv2d_23 (Conv2D)             (None, 32, 32, 64)   18496       ['max_pooling2d_5[0][0]']        \n",
            "                                                                                                  \n",
            " dropout_11 (Dropout)           (None, 32, 32, 64)   0           ['conv2d_23[0][0]']              \n",
            "                                                                                                  \n",
            " conv2d_24 (Conv2D)             (None, 32, 32, 64)   36928       ['dropout_11[0][0]']             \n",
            "                                                                                                  \n",
            " max_pooling2d_6 (MaxPooling2D)  (None, 16, 16, 64)  0           ['conv2d_24[0][0]']              \n",
            "                                                                                                  \n",
            " conv2d_25 (Conv2D)             (None, 16, 16, 128)  73856       ['max_pooling2d_6[0][0]']        \n",
            "                                                                                                  \n",
            " dropout_12 (Dropout)           (None, 16, 16, 128)  0           ['conv2d_25[0][0]']              \n",
            "                                                                                                  \n",
            " conv2d_26 (Conv2D)             (None, 16, 16, 128)  147584      ['dropout_12[0][0]']             \n",
            "                                                                                                  \n",
            " max_pooling2d_7 (MaxPooling2D)  (None, 8, 8, 128)   0           ['conv2d_26[0][0]']              \n",
            "                                                                                                  \n",
            " conv2d_27 (Conv2D)             (None, 8, 8, 256)    295168      ['max_pooling2d_7[0][0]']        \n",
            "                                                                                                  \n",
            " dropout_13 (Dropout)           (None, 8, 8, 256)    0           ['conv2d_27[0][0]']              \n",
            "                                                                                                  \n",
            " conv2d_28 (Conv2D)             (None, 8, 8, 256)    590080      ['dropout_13[0][0]']             \n",
            "                                                                                                  \n",
            " conv2d_transpose_4 (Conv2DTran  (None, 16, 16, 128)  131200     ['conv2d_28[0][0]']              \n",
            " spose)                                                                                           \n",
            "                                                                                                  \n",
            " concatenate_4 (Concatenate)    (None, 16, 16, 256)  0           ['conv2d_transpose_4[0][0]',     \n",
            "                                                                  'conv2d_26[0][0]']              \n",
            "                                                                                                  \n",
            " conv2d_29 (Conv2D)             (None, 16, 16, 128)  295040      ['concatenate_4[0][0]']          \n",
            "                                                                                                  \n",
            " dropout_14 (Dropout)           (None, 16, 16, 128)  0           ['conv2d_29[0][0]']              \n",
            "                                                                                                  \n",
            " conv2d_30 (Conv2D)             (None, 16, 16, 128)  147584      ['dropout_14[0][0]']             \n",
            "                                                                                                  \n",
            " conv2d_transpose_5 (Conv2DTran  (None, 32, 32, 64)  32832       ['conv2d_30[0][0]']              \n",
            " spose)                                                                                           \n",
            "                                                                                                  \n",
            " concatenate_5 (Concatenate)    (None, 32, 32, 128)  0           ['conv2d_transpose_5[0][0]',     \n",
            "                                                                  'conv2d_24[0][0]']              \n",
            "                                                                                                  \n",
            " conv2d_31 (Conv2D)             (None, 32, 32, 64)   73792       ['concatenate_5[0][0]']          \n",
            "                                                                                                  \n",
            " dropout_15 (Dropout)           (None, 32, 32, 64)   0           ['conv2d_31[0][0]']              \n",
            "                                                                                                  \n",
            " conv2d_32 (Conv2D)             (None, 32, 32, 64)   36928       ['dropout_15[0][0]']             \n",
            "                                                                                                  \n",
            " conv2d_transpose_6 (Conv2DTran  (None, 64, 64, 32)  8224        ['conv2d_32[0][0]']              \n",
            " spose)                                                                                           \n",
            "                                                                                                  \n",
            " concatenate_6 (Concatenate)    (None, 64, 64, 64)   0           ['conv2d_transpose_6[0][0]',     \n",
            "                                                                  'conv2d_22[0][0]']              \n",
            "                                                                                                  \n",
            " conv2d_33 (Conv2D)             (None, 64, 64, 32)   18464       ['concatenate_6[0][0]']          \n",
            "                                                                                                  \n",
            " dropout_16 (Dropout)           (None, 64, 64, 32)   0           ['conv2d_33[0][0]']              \n",
            "                                                                                                  \n",
            " conv2d_34 (Conv2D)             (None, 64, 64, 32)   9248        ['dropout_16[0][0]']             \n",
            "                                                                                                  \n",
            " conv2d_transpose_7 (Conv2DTran  (None, 128, 128, 16  2064       ['conv2d_34[0][0]']              \n",
            " spose)                         )                                                                 \n",
            "                                                                                                  \n",
            " concatenate_7 (Concatenate)    (None, 128, 128, 32  0           ['conv2d_transpose_7[0][0]',     \n",
            "                                )                                 'conv2d_20[0][0]']              \n",
            "                                                                                                  \n",
            " conv2d_35 (Conv2D)             (None, 128, 128, 16  4624        ['concatenate_7[0][0]']          \n",
            "                                )                                                                 \n",
            "                                                                                                  \n",
            " dropout_17 (Dropout)           (None, 128, 128, 16  0           ['conv2d_35[0][0]']              \n",
            "                                )                                                                 \n",
            "                                                                                                  \n",
            " conv2d_36 (Conv2D)             (None, 128, 128, 16  2320        ['dropout_17[0][0]']             \n",
            "                                )                                                                 \n",
            "                                                                                                  \n",
            " conv2d_37 (Conv2D)             (None, 128, 128, 1)  17          ['conv2d_36[0][0]']              \n",
            "                                                                                                  \n",
            "==================================================================================================\n",
            "Total params: 1,941,105\n",
            "Trainable params: 1,941,105\n",
            "Non-trainable params: 0\n",
            "__________________________________________________________________________________________________\n"
          ]
        }
      ]
    },
    {
      "cell_type": "code",
      "source": [],
      "metadata": {
        "id": "nUurbSKxA8uK"
      },
      "execution_count": null,
      "outputs": []
    },
    {
      "cell_type": "code",
      "source": [
        "# X_train=train_img\n",
        "# y_train=train_mask\n",
        "#y_train = np.expand_dims(y_train, axis=3)"
      ],
      "metadata": {
        "id": "fzxtsF3m-huX"
      },
      "execution_count": 48,
      "outputs": []
    },
    {
      "cell_type": "code",
      "source": [
        "# checkpointer = tf.keras.callbacks.ModelCheckpoint('model_for_nuclei.h5', verbose=1, save_best_only=True)\n",
        "\n",
        "# callbacks = [\n",
        "#         tf.keras.callbacks.EarlyStopping(patience=2, monitor='val_loss'),\n",
        "#         tf.keras.callbacks.TensorBoard(log_dir='logs')]"
      ],
      "metadata": {
        "id": "wu1cmoLl0ktV"
      },
      "execution_count": null,
      "outputs": []
    },
    {
      "cell_type": "code",
      "source": [
        "################################\n",
        "#Modelcheckpoint\n",
        "\n",
        "\n",
        "results = model.fit(X_train, Y_train, validation_split=0.2, batch_size=16, epochs=25)\n"
      ],
      "metadata": {
        "colab": {
          "base_uri": "https://localhost:8080/"
        },
        "id": "TGJFNzvD-O1r",
        "outputId": "580b9a19-a479-411a-f788-fb681788107c"
      },
      "execution_count": 66,
      "outputs": [
        {
          "output_type": "stream",
          "name": "stdout",
          "text": [
            "Epoch 1/25\n",
            "73/73 [==============================] - 3s 43ms/step - loss: 0.5122 - accuracy: 0.7075 - val_loss: 0.5650 - val_accuracy: 0.6431\n",
            "Epoch 2/25\n",
            "73/73 [==============================] - 3s 42ms/step - loss: 0.5072 - accuracy: 0.7128 - val_loss: 0.5224 - val_accuracy: 0.7157\n",
            "Epoch 3/25\n",
            "73/73 [==============================] - 3s 43ms/step - loss: 0.4840 - accuracy: 0.7452 - val_loss: 0.5023 - val_accuracy: 0.7340\n",
            "Epoch 4/25\n",
            "73/73 [==============================] - 3s 43ms/step - loss: 0.4353 - accuracy: 0.7895 - val_loss: 0.4142 - val_accuracy: 0.8004\n",
            "Epoch 5/25\n",
            "73/73 [==============================] - 3s 42ms/step - loss: 0.3494 - accuracy: 0.8470 - val_loss: 0.2912 - val_accuracy: 0.8805\n",
            "Epoch 6/25\n",
            "73/73 [==============================] - 3s 42ms/step - loss: 0.2775 - accuracy: 0.8882 - val_loss: 0.2520 - val_accuracy: 0.8967\n",
            "Epoch 7/25\n",
            "73/73 [==============================] - 3s 43ms/step - loss: 0.2491 - accuracy: 0.8989 - val_loss: 0.2280 - val_accuracy: 0.9103\n",
            "Epoch 8/25\n",
            "73/73 [==============================] - 3s 42ms/step - loss: 0.2182 - accuracy: 0.9139 - val_loss: 0.2141 - val_accuracy: 0.9171\n",
            "Epoch 9/25\n",
            "73/73 [==============================] - 3s 42ms/step - loss: 0.1930 - accuracy: 0.9250 - val_loss: 0.1936 - val_accuracy: 0.9267\n",
            "Epoch 10/25\n",
            "73/73 [==============================] - 3s 42ms/step - loss: 0.1804 - accuracy: 0.9294 - val_loss: 0.1864 - val_accuracy: 0.9302\n",
            "Epoch 11/25\n",
            "73/73 [==============================] - 3s 44ms/step - loss: 0.1642 - accuracy: 0.9342 - val_loss: 0.1828 - val_accuracy: 0.9327\n",
            "Epoch 12/25\n",
            "73/73 [==============================] - 3s 43ms/step - loss: 0.1536 - accuracy: 0.9393 - val_loss: 0.1838 - val_accuracy: 0.9311\n",
            "Epoch 13/25\n",
            "73/73 [==============================] - 3s 43ms/step - loss: 0.1381 - accuracy: 0.9462 - val_loss: 0.1760 - val_accuracy: 0.9307\n",
            "Epoch 14/25\n",
            "73/73 [==============================] - 3s 43ms/step - loss: 0.1317 - accuracy: 0.9470 - val_loss: 0.1802 - val_accuracy: 0.9327\n",
            "Epoch 15/25\n",
            "73/73 [==============================] - 3s 43ms/step - loss: 0.1314 - accuracy: 0.9481 - val_loss: 0.1913 - val_accuracy: 0.9307\n",
            "Epoch 16/25\n",
            "73/73 [==============================] - 3s 44ms/step - loss: 0.1298 - accuracy: 0.9492 - val_loss: 0.1735 - val_accuracy: 0.9391\n",
            "Epoch 17/25\n",
            "73/73 [==============================] - 3s 44ms/step - loss: 0.1048 - accuracy: 0.9585 - val_loss: 0.1742 - val_accuracy: 0.9404\n",
            "Epoch 18/25\n",
            "73/73 [==============================] - 3s 44ms/step - loss: 0.0956 - accuracy: 0.9618 - val_loss: 0.1879 - val_accuracy: 0.9401\n",
            "Epoch 19/25\n",
            "73/73 [==============================] - 3s 44ms/step - loss: 0.0906 - accuracy: 0.9637 - val_loss: 0.1831 - val_accuracy: 0.9416\n",
            "Epoch 20/25\n",
            "73/73 [==============================] - 3s 43ms/step - loss: 0.0873 - accuracy: 0.9651 - val_loss: 0.1878 - val_accuracy: 0.9420\n",
            "Epoch 21/25\n",
            "73/73 [==============================] - 3s 43ms/step - loss: 0.0819 - accuracy: 0.9673 - val_loss: 0.1767 - val_accuracy: 0.9406\n",
            "Epoch 22/25\n",
            "73/73 [==============================] - 3s 45ms/step - loss: 0.0758 - accuracy: 0.9696 - val_loss: 0.1665 - val_accuracy: 0.9455\n",
            "Epoch 23/25\n",
            "73/73 [==============================] - 3s 44ms/step - loss: 0.0741 - accuracy: 0.9701 - val_loss: 0.1686 - val_accuracy: 0.9469\n",
            "Epoch 24/25\n",
            "73/73 [==============================] - 3s 44ms/step - loss: 0.0706 - accuracy: 0.9715 - val_loss: 0.2150 - val_accuracy: 0.9365\n",
            "Epoch 25/25\n",
            "73/73 [==============================] - 3s 43ms/step - loss: 0.0908 - accuracy: 0.9641 - val_loss: 0.1882 - val_accuracy: 0.9448\n"
          ]
        }
      ]
    },
    {
      "cell_type": "code",
      "source": [
        "plt.plot(results.history['loss'],c='r',label=\"loss\")\n",
        "plt.plot(results.history['val_loss'],c='b',label=\"val_loss\")\n",
        "plt.xlabel(\"epochs\")\n",
        "plt.title(\"Loss_Graph\")\n",
        "plt.ylabel(\"loss\")\n",
        "plt.legend()\n",
        "plt.show()"
      ],
      "metadata": {
        "colab": {
          "base_uri": "https://localhost:8080/",
          "height": 295
        },
        "id": "7O2xIIXC-kmL",
        "outputId": "a88d211e-893a-40c7-9d94-ecf04b50b8f8"
      },
      "execution_count": 67,
      "outputs": [
        {
          "output_type": "display_data",
          "data": {
            "text/plain": [
              "<Figure size 432x288 with 1 Axes>"
            ],
            "image/png": "[encoded data removed]"
          },
          "metadata": {
            "needs_background": "light"
          }
        }
      ]
    },
    {
      "cell_type": "code",
      "source": [
        "plt.plot(results.history['accuracy'],c='r',label=\"accuracy\")\n",
        "plt.plot(results.history['val_accuracy'],c='b',label=\"val_accuracy\")\n",
        "plt.xlabel(\"epochs\")\n",
        "plt.title(\"Accuracy_graph\")\n",
        "plt.ylabel(\"Accuracy\")\n",
        "plt.legend()\n",
        "plt.show()\n",
        "plt.show()"
      ],
      "metadata": {
        "colab": {
          "base_uri": "https://localhost:8080/",
          "height": 295
        },
        "id": "9FhUlbgNPS3K",
        "outputId": "4a6c0652-241b-4516-800e-5999f4b7198b"
      },
      "execution_count": 68,
      "outputs": [
        {
          "output_type": "display_data",
          "data": {
            "text/plain": [
              "<Figure size 432x288 with 1 Axes>"
            ],
            "image/png": "[encoded data removed]"
          },
          "metadata": {
            "needs_background": "light"
          }
        }
      ]
    },
    {
      "cell_type": "code",
      "source": [
        "test=cv2.imread(\"/content/cTDaR_t10019_jpg.rf.d7437d61f546599c5d09ea267bc78eae.jpg\")\n",
        "test.shape"
      ],
      "metadata": {
        "colab": {
          "base_uri": "https://localhost:8080/"
        },
        "id": "eo6Pk371PV6t",
        "outputId": "c93fe7c1-57fd-4063-c3c4-b2ba52a48298"
      },
      "execution_count": 75,
      "outputs": [
        {
          "output_type": "execute_result",
          "data": {
            "text/plain": [
              "(416, 416, 3)"
            ]
          },
          "metadata": {},
          "execution_count": 75
        }
      ]
    },
    {
      "cell_type": "code",
      "source": [
        "test= np.expand_dims(resize(test, (IMG_HEIGHT, IMG_WIDTH, IMG_CHANNELS), mode='constant',  \n",
        "                                      preserve_range=True), axis=-1)"
      ],
      "metadata": {
        "id": "zwYZVi34QH5_"
      },
      "execution_count": 76,
      "outputs": []
    },
    {
      "cell_type": "code",
      "source": [
        "test.shape"
      ],
      "metadata": {
        "id": "wALP2TCCQO1T",
        "colab": {
          "base_uri": "https://localhost:8080/"
        },
        "outputId": "65b5fee8-6072-4c1b-a12b-4a89ba3a1ddf"
      },
      "execution_count": 77,
      "outputs": [
        {
          "output_type": "execute_result",
          "data": {
            "text/plain": [
              "(128, 128, 3, 1)"
            ]
          },
          "metadata": {},
          "execution_count": 77
        }
      ]
    },
    {
      "cell_type": "code",
      "source": [
        "#output=model.predict(test)"
      ],
      "metadata": {
        "id": "x52Avh59P2X4"
      },
      "execution_count": 86,
      "outputs": []
    },
    {
      "cell_type": "code",
      "source": [
        "X_train.shape"
      ],
      "metadata": {
        "id": "Ez4eb3TeP68U",
        "colab": {
          "base_uri": "https://localhost:8080/"
        },
        "outputId": "be49ee4b-f413-461b-c85a-a706114f39aa"
      },
      "execution_count": 79,
      "outputs": [
        {
          "output_type": "execute_result",
          "data": {
            "text/plain": [
              "(1456, 128, 128, 3)"
            ]
          },
          "metadata": {},
          "execution_count": 79
        }
      ]
    },
    {
      "cell_type": "code",
      "source": [
        "X_train[:int(X_train.shape[0]*0.9)].shape"
      ],
      "metadata": {
        "id": "p1chBOlGRWLE",
        "colab": {
          "base_uri": "https://localhost:8080/"
        },
        "outputId": "f7d6c25e-3262-4755-aff3-f8ae2760ee5a"
      },
      "execution_count": 80,
      "outputs": [
        {
          "output_type": "execute_result",
          "data": {
            "text/plain": [
              "(1310, 128, 128, 3)"
            ]
          },
          "metadata": {},
          "execution_count": 80
        }
      ]
    },
    {
      "cell_type": "code",
      "source": [
        "idx = random.randint(0, len(X_train))\n",
        "\n",
        "\n",
        "preds_train = model.predict(X_train[:int(X_train.shape[0]*0.9)], verbose=1)\n",
        "preds_val = model.predict(X_train[int(X_train.shape[0]*0.9):], verbose=1)\n",
        "#preds_test = model.predict(X_test, verbose=1)"
      ],
      "metadata": {
        "id": "E2TQeOFBRyrT",
        "colab": {
          "base_uri": "https://localhost:8080/"
        },
        "outputId": "8b0f5f77-bfdb-4686-aac7-6a2aaf77c69c"
      },
      "execution_count": 81,
      "outputs": [
        {
          "output_type": "stream",
          "name": "stdout",
          "text": [
            "41/41 [==============================] - 2s 35ms/step\n",
            "5/5 [==============================] - 1s 126ms/step\n"
          ]
        }
      ]
    },
    {
      "cell_type": "code",
      "source": [
        "preds_train_t = (preds_train > 0.5).astype(np.uint8)\n",
        "preds_val_t = (preds_val > 0.5).astype(np.uint8)"
      ],
      "metadata": {
        "id": "RFk-q85QR3Hd"
      },
      "execution_count": 82,
      "outputs": []
    },
    {
      "cell_type": "code",
      "source": [
        "# Perform a sanity check on some random training samples\n",
        "ix = random.randint(0, len(preds_train_t))\n",
        "imshow(X_train[ix])\n",
        "plt.show()"
      ],
      "metadata": {
        "id": "RBU6Ie8rSN62",
        "colab": {
          "base_uri": "https://localhost:8080/",
          "height": 297
        },
        "outputId": "ea789c14-b003-4414-e0ce-ab54d56b573e"
      },
      "execution_count": 83,
      "outputs": [
        {
          "output_type": "display_data",
          "data": {
            "text/plain": [
              "<Figure size 432x288 with 1 Axes>"
            ],
            "image/png": "[encoded data removed]"
          },
          "metadata": {
            "needs_background": "light"
          }
        }
      ]
    },
    {
      "cell_type": "code",
      "source": [
        "imshow(np.squeeze(y_train[ix]))\n",
        "plt.show()"
      ],
      "metadata": {
        "id": "eVmuSG59SRE-",
        "colab": {
          "base_uri": "https://localhost:8080/",
          "height": 297
        },
        "outputId": "bb40b84a-c0ad-47f3-adf8-11c2bf6b937b"
      },
      "execution_count": 84,
      "outputs": [
        {
          "output_type": "display_data",
          "data": {
            "text/plain": [
              "<Figure size 432x288 with 2 Axes>"
            ],
            "image/png": "[encoded data removed]"
          },
          "metadata": {
            "needs_background": "light"
          }
        }
      ]
    },
    {
      "cell_type": "code",
      "source": [
        "imshow(np.squeeze(preds_train_t[ix]))\n",
        "plt.show()"
      ],
      "metadata": {
        "id": "FJ6J2qj7SU_a",
        "colab": {
          "base_uri": "https://localhost:8080/",
          "height": 332
        },
        "outputId": "a5f6cf80-d552-4024-9f29-a6ccf8198b57"
      },
      "execution_count": 85,
      "outputs": [
        {
          "output_type": "stream",
          "name": "stderr",
          "text": [
            "/usr/local/lib/python3.8/dist-packages/skimage/io/_plugins/matplotlib_plugin.py:150: UserWarning: Low image data range; displaying image with stretched contrast.\n",
            "  lo, hi, cmap = _get_display_range(image)\n"
          ]
        },
        {
          "output_type": "display_data",
          "data": {
            "text/plain": [
              "<Figure size 432x288 with 2 Axes>"
            ],
            "image/png": "[encoded data removed]"
          },
          "metadata": {
            "needs_background": "light"
          }
        }
      ]
    },
    {
      "cell_type": "code",
      "source": [
        "\n",
        "# Perform a sanity check on some random validation samples\n",
        "ix = random.randint(0, len(preds_val_t))\n",
        "imshow(X_train[int(X_train.shape[0]*0.9):][ix])\n",
        "plt.show()"
      ],
      "metadata": {
        "id": "4yO_z4dNWlno",
        "colab": {
          "base_uri": "https://localhost:8080/",
          "height": 297
        },
        "outputId": "5ee130e6-36c0-413a-991e-c9dfcf2c94fb"
      },
      "execution_count": 87,
      "outputs": [
        {
          "output_type": "display_data",
          "data": {
            "text/plain": [
              "<Figure size 432x288 with 1 Axes>"
            ],
            "image/png": "[encoded data removed]"
          },
          "metadata": {
            "needs_background": "light"
          }
        }
      ]
    },
    {
      "cell_type": "code",
      "source": [
        "plt.imshow(np.squeeze(Y_train[int(Y_train.shape[0]*0.9):][ix]))\n",
        "plt.show()"
      ],
      "metadata": {
        "id": "s-NinPBlSpjM",
        "colab": {
          "base_uri": "https://localhost:8080/",
          "height": 268
        },
        "outputId": "2a11a077-a4bb-4bd2-a0fc-1fdb51e07c63"
      },
      "execution_count": 89,
      "outputs": [
        {
          "output_type": "display_data",
          "data": {
            "text/plain": [
              "<Figure size 432x288 with 1 Axes>"
            ],
            "image/png": "[encoded data removed]"
          },
          "metadata": {
            "needs_background": "light"
          }
        }
      ]
    },
    {
      "cell_type": "code",
      "source": [
        "plt.imshow(np.squeeze(preds_val_t[ix]))\n",
        "plt.show()"
      ],
      "metadata": {
        "id": "txjj7zoPS7wD",
        "colab": {
          "base_uri": "https://localhost:8080/",
          "height": 268
        },
        "outputId": "2b3e0ced-ca30-4afe-a01e-80ede9d9582b"
      },
      "execution_count": 90,
      "outputs": [
        {
          "output_type": "display_data",
          "data": {
            "text/plain": [
              "<Figure size 432x288 with 1 Axes>"
            ],
            "image/png": "[encoded data removed]"
          },
          "metadata": {
            "needs_background": "light"
          }
        }
      ]
    },
    {
      "cell_type": "code",
      "source": [],
      "metadata": {
        "id": "huzJs7woTE2c"
      },
      "execution_count": null,
      "outputs": []
    }
  ]
}